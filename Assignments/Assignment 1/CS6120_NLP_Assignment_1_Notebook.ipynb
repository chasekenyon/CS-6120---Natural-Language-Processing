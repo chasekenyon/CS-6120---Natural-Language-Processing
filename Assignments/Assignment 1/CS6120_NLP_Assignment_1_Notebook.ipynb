{
 "cells": [
  {
   "cell_type": "markdown",
   "id": "bc97d6da",
   "metadata": {
    "id": "bc97d6da"
   },
   "source": [
    "## CS 6120: Natural Language Processing - Prof. Ahmad Uzair\n",
    "\n",
    "### Assignment 1: Naive Bayes\n",
    "### Total Points: 100 points\n",
    "\n",
    "You will be dealing with movie review data that includes both positive and negative reviews in this assignment. You will use Sentiment Analysis to assess if a given review is positive or negative using the provided dataset.\n",
    "\n",
    "Therefore, we will make use of Naive Bayes algorithm to perform sentiment analysis on the movie review dataset.\n",
    "\n",
    "## Importing the Libraries"
   ]
  },
  {
   "cell_type": "code",
   "execution_count": 1,
   "id": "a03450ac",
   "metadata": {
    "id": "a03450ac"
   },
   "outputs": [],
   "source": [
    "import numpy as np\n",
    "import math\n",
    "import pandas as pd\n",
    "import re\n",
    "import nltk\n",
    "import string\n",
    "from nltk.corpus import stopwords\n",
    "from nltk.stem import WordNetLemmatizer\n",
    "from nltk.stem import PorterStemmer\n",
    "from nltk.tokenize import word_tokenize\n",
    "import warnings\n",
    "import seaborn as sns\n",
    "import matplotlib.pyplot as plt\n",
    "import random as rand\n",
    "warnings.filterwarnings(\"ignore\")"
   ]
  },
  {
   "cell_type": "markdown",
   "id": "fc584cc2",
   "metadata": {
    "id": "fc584cc2"
   },
   "source": [
    "## Reading the data\n",
    "\n",
    "When reading the data, ensure that the '.csv' file is in the same location where your jupyter notebook is used. This way the files are organized and easy to read using the pandas library. "
   ]
  },
  {
   "cell_type": "code",
   "execution_count": 2,
   "id": "3c9ffbf5",
   "metadata": {
    "id": "3c9ffbf5"
   },
   "outputs": [],
   "source": [
    "## Reading the data and removing columns that are not important. \n",
    "df = pd.read_csv(\"movie_reviews-1.csv\", sep = ',', encoding = 'latin-1', usecols = lambda col: col not in [\"Unnamed: 2\", \"Unnamed: 3\", \"Unnamed: 4\"])"
   ]
  },
  {
   "cell_type": "code",
   "execution_count": 3,
   "id": "f7fa8ac0",
   "metadata": {
    "colab": {
     "base_uri": "https://localhost:8080/",
     "height": 206
    },
    "id": "f7fa8ac0",
    "outputId": "69edaf28-1e2e-4ec7-9530-b30a2853ab9e"
   },
   "outputs": [
    {
     "data": {
      "text/html": [
       "<div>\n",
       "<style scoped>\n",
       "    .dataframe tbody tr th:only-of-type {\n",
       "        vertical-align: middle;\n",
       "    }\n",
       "\n",
       "    .dataframe tbody tr th {\n",
       "        vertical-align: top;\n",
       "    }\n",
       "\n",
       "    .dataframe thead th {\n",
       "        text-align: right;\n",
       "    }\n",
       "</style>\n",
       "<table border=\"1\" class=\"dataframe\">\n",
       "  <thead>\n",
       "    <tr style=\"text-align: right;\">\n",
       "      <th></th>\n",
       "      <th>review</th>\n",
       "      <th>sentiment</th>\n",
       "    </tr>\n",
       "  </thead>\n",
       "  <tbody>\n",
       "    <tr>\n",
       "      <th>0</th>\n",
       "      <td>One of the other reviewers has mentioned that ...</td>\n",
       "      <td>positive</td>\n",
       "    </tr>\n",
       "    <tr>\n",
       "      <th>1</th>\n",
       "      <td>A wonderful little production. &lt;br /&gt;&lt;br /&gt;The...</td>\n",
       "      <td>positive</td>\n",
       "    </tr>\n",
       "    <tr>\n",
       "      <th>2</th>\n",
       "      <td>I thought this was a wonderful way to spend ti...</td>\n",
       "      <td>positive</td>\n",
       "    </tr>\n",
       "    <tr>\n",
       "      <th>3</th>\n",
       "      <td>Petter Mattei's \"Love in the Time of Money\" is...</td>\n",
       "      <td>positive</td>\n",
       "    </tr>\n",
       "    <tr>\n",
       "      <th>4</th>\n",
       "      <td>Probably my all-time favorite movie, a story o...</td>\n",
       "      <td>positive</td>\n",
       "    </tr>\n",
       "  </tbody>\n",
       "</table>\n",
       "</div>"
      ],
      "text/plain": [
       "                                              review sentiment\n",
       "0  One of the other reviewers has mentioned that ...  positive\n",
       "1  A wonderful little production. <br /><br />The...  positive\n",
       "2  I thought this was a wonderful way to spend ti...  positive\n",
       "3  Petter Mattei's \"Love in the Time of Money\" is...  positive\n",
       "4  Probably my all-time favorite movie, a story o...  positive"
      ]
     },
     "execution_count": 3,
     "metadata": {},
     "output_type": "execute_result"
    }
   ],
   "source": [
    "# print head of data frame with help of head function\n",
    "df.head()"
   ]
  },
  {
   "cell_type": "markdown",
   "id": "1749da04",
   "metadata": {
    "id": "1749da04"
   },
   "source": [
    "## Count plot of the output categories: positive or negative\n",
    "\n",
    "Feel free to take a look at the output and whether the classes are balanced or imbalanced. "
   ]
  },
  {
   "cell_type": "code",
   "execution_count": 4,
   "id": "c152e8a4",
   "metadata": {
    "colab": {
     "base_uri": "https://localhost:8080/",
     "height": 515
    },
    "id": "c152e8a4",
    "outputId": "a2ba0476-3238-4511-fcf0-780508493f48"
   },
   "outputs": [
    {
     "data": {
      "image/png": "[encoded data removed]",
      "text/plain": [
       "<Figure size 800x500 with 1 Axes>"
      ]
     },
     "metadata": {},
     "output_type": "display_data"
    }
   ],
   "source": [
    "plt.figure(figsize = (8,5))\n",
    "sns.countplot(df, x = 'sentiment')\n",
    "plt.title(\"Positive Vs. Negative reviews count\", fontsize = 15)\n",
    "plt.show()"
   ]
  },
  {
   "cell_type": "markdown",
   "id": "9b8549f2",
   "metadata": {
    "id": "9b8549f2"
   },
   "source": [
    "## Upsampling the minority class: (5 points)\n",
    "\n",
    "It is known that Naive bayes is not robust to class imbalance. It could be seen above that the data is little imbalanced. Therefore, class balancing can be done before giving it to the Naive Bayes model for prediction. \n",
    "\n",
    "Feel free to use 'resample' library from sklearn. "
   ]
  },
  {
   "cell_type": "code",
   "execution_count": 5,
   "id": "yHJTAqrW7XMN",
   "metadata": {
    "id": "yHJTAqrW7XMN"
   },
   "outputs": [],
   "source": [
    "## hint: use resample from sklearn.utils\n",
    "from sklearn.utils import resample\n",
    "\n",
    "df_majority = df[df.sentiment == 'positive']\n",
    "df_minority = df[df.sentiment == 'negative']\n",
    "\n",
    "negative_upsample = resample(df_minority, replace = True, \n",
    "                        n_samples = df_majority.shape[0],\n",
    "                        random_state = 101)\n",
    "\n",
    "df_upsampled = pd.concat([df_majority, negative_upsample])  # concat two data frames i,e majority class data set and upsampled minority class data set\n",
    "df_upsampled = df_upsampled.sample(frac = 1)"
   ]
  },
  {
   "cell_type": "code",
   "execution_count": 6,
   "id": "6a9329bb",
   "metadata": {
    "id": "6a9329bb"
   },
   "outputs": [
    {
     "data": {
      "text/plain": [
       "(12474, 2)"
      ]
     },
     "execution_count": 6,
     "metadata": {},
     "output_type": "execute_result"
    }
   ],
   "source": [
    "## Just to ensure that upsampling was done successfully, take a look at the shape of the data in \n",
    "## this cell. \n",
    "\n",
    "# print the shape of data set with the help of shape function having \"negative\" as class label\n",
    "df_upsampled[df_upsampled.sentiment == 'negative'].shape"
   ]
  },
  {
   "cell_type": "markdown",
   "id": "6f8bf6e7",
   "metadata": {
    "id": "6f8bf6e7"
   },
   "source": [
    "### Expected Output : \n",
    "(12474, 2)"
   ]
  },
  {
   "cell_type": "code",
   "execution_count": 7,
   "id": "bdea8155",
   "metadata": {
    "colab": {
     "base_uri": "https://localhost:8080/"
    },
    "id": "bdea8155",
    "outputId": "c665c4b9-826e-4f4e-e30e-06e0935a0622"
   },
   "outputs": [
    {
     "data": {
      "text/plain": [
       "(12474, 2)"
      ]
     },
     "execution_count": 7,
     "metadata": {},
     "output_type": "execute_result"
    }
   ],
   "source": [
    "## Ensure that the same number of data points are present for both 'positive' and 'negative' data\n",
    "\n",
    "# print the shape of data set with the help of shape function having \"positive\" as class label\n",
    "df_upsampled[df_upsampled.sentiment == 'positive'].shape"
   ]
  },
  {
   "cell_type": "markdown",
   "id": "626f01d5",
   "metadata": {
    "id": "626f01d5"
   },
   "source": [
    "### Expected Output : \n",
    "(12474, 2)"
   ]
  },
  {
   "cell_type": "code",
   "execution_count": 8,
   "id": "NoW5z6SzAeP8",
   "metadata": {
    "id": "NoW5z6SzAeP8"
   },
   "outputs": [],
   "source": [
    "## In this cell, we are going to be dividing the data into train and test points\n",
    "## Ensure that you store the upsampled data in a variable called 'df_upsampled' \n",
    "## so that the below operations are performed successfully\n",
    "\n",
    "\n",
    "## Considering 10000 positive and 10000 negative data points\n",
    "negative_data_points_train = df_upsampled[df_upsampled['sentiment'] == 'negative'].iloc[:10000]\n",
    "positive_data_points_train = df_upsampled[df_upsampled['sentiment'] == 'positive'].iloc[:10000]\n",
    "\n",
    "## Considering the remaining data points for test\n",
    "negative_data_points_test = df_upsampled[df_upsampled['sentiment'] == 'negative'].iloc[10000:]\n",
    "positive_data_points_test = df_upsampled[df_upsampled['sentiment'] == 'positive'].iloc[10000:]\n",
    "\n",
    "## Concatenate the training positive and negative reviews\n",
    "X_train = pd.concat([negative_data_points_train['review'], positive_data_points_train['review']])\n",
    "## Concatenating the training positive and negative outputs\n",
    "y_train = pd.concat([negative_data_points_train['sentiment'], positive_data_points_train['sentiment']])\n",
    "\n",
    "## Concatenating the test positive and negative reviews\n",
    "X_test = pd.concat([negative_data_points_test['review'], positive_data_points_test['review']])\n",
    "## Concatenating the test positive and negative outputs\n",
    "y_test = pd.concat([negative_data_points_test['sentiment'], positive_data_points_test['sentiment']])\n"
   ]
  },
  {
   "cell_type": "code",
   "execution_count": 9,
   "id": "6428047d",
   "metadata": {
    "colab": {
     "base_uri": "https://localhost:8080/"
    },
    "id": "6428047d",
    "outputId": "10d10601-0ce0-4688-c4d3-75fa386583fd"
   },
   "outputs": [
    {
     "data": {
      "text/plain": [
       "negative    10000\n",
       "positive    10000\n",
       "Name: sentiment, dtype: int64"
      ]
     },
     "execution_count": 9,
     "metadata": {},
     "output_type": "execute_result"
    }
   ],
   "source": [
    "## Take a look at the total number of classes and their count using '.value_counts()' for y_train and y_test.\n",
    "## Ensure that there are equal number of positive and negative reviews. \n",
    "y_train.value_counts()"
   ]
  },
  {
   "cell_type": "markdown",
   "id": "7dfe6517",
   "metadata": {
    "id": "7dfe6517"
   },
   "source": [
    "### Expected Output:\n",
    "negative    10000<br>\n",
    "positive    10000<br>\n",
    "Name: sentiment, dtype: int64"
   ]
  },
  {
   "cell_type": "code",
   "execution_count": 10,
   "id": "2beae1d6",
   "metadata": {
    "colab": {
     "base_uri": "https://localhost:8080/"
    },
    "id": "2beae1d6",
    "outputId": "6896f930-6a1a-45db-b74c-d080c9aedd0c"
   },
   "outputs": [
    {
     "data": {
      "text/plain": [
       "negative    2474\n",
       "positive    2474\n",
       "Name: sentiment, dtype: int64"
      ]
     },
     "execution_count": 10,
     "metadata": {},
     "output_type": "execute_result"
    }
   ],
   "source": [
    "y_test.value_counts()"
   ]
  },
  {
   "cell_type": "markdown",
   "id": "9163f897",
   "metadata": {
    "id": "9163f897"
   },
   "source": [
    "### Expected Output : \n",
    "negative    2474<br>\n",
    "positive    2474<br>\n",
    "Name: sentiment, dtype: int64"
   ]
  },
  {
   "cell_type": "markdown",
   "id": "6501699b",
   "metadata": {
    "id": "6501699b"
   },
   "source": [
    "## Q1. Pre-process the reviews: (10 points)\n",
    "\n",
    "We know that a review contains links, punctuation, stopwords and many other words that don't give a lot of meaning for the Naive Bayes model for prediction. \n",
    "\n",
    "In the cell below, one must implement text-preprocessing and remove links, punctuations and stopwords. It is also important to lowercase the letters so that 'Admire' and 'admire' are not treated as different words. \n",
    "\n",
    "In addition to this, perform stemming operation so that similar words are reduced. To know more about stemming, feel free to take a look at this link.\n",
    "\n",
    "https://nlp.stanford.edu/IR-book/html/htmledition/stemming-and-lemmatization-1.html"
   ]
  },
  {
   "cell_type": "code",
   "execution_count": 11,
   "id": "CirLN9-ddQ1r",
   "metadata": {
    "id": "CirLN9-ddQ1r"
   },
   "outputs": [],
   "source": [
    "# TASK CELL\n",
    "\n",
    "# Get the English stop words\n",
    "stop_words = set(stopwords.words('english'))\n",
    "\n",
    "# Initialize the WordNet Lemmatizer\n",
    "lemmatizer = WordNetLemmatizer()\n",
    "\n",
    "def clean_review(review):\n",
    "    '''\n",
    "    Input:\n",
    "        review: a string containing a review.\n",
    "    Output:\n",
    "        review_cleaned: a processed review. \n",
    "    '''\n",
    "\n",
    "    # Lowercase the review\n",
    "    review = review.lower()\n",
    "\n",
    "    # Remove links\n",
    "    review = re.sub(r\"http\\S+|www\\S+|https\\S+\", '', review, flags=re.MULTILINE)\n",
    "\n",
    "    # Remove punctuations\n",
    "    review = review.translate(str.maketrans('', '', string.punctuation))\n",
    "\n",
    "    # Tokenize the review\n",
    "    tokens = word_tokenize(review)\n",
    "\n",
    "    # Remove stopwords and perform lemmatization\n",
    "    review_cleaned = [lemmatizer.lemmatize(token) for token in tokens if token not in stop_words]\n",
    "    \n",
    "    # review_cleaned = [porter.stem(token) for token in tokens if token not in stop_words]\n",
    "\n",
    "    # Join the cleaned tokens back into a string\n",
    "    review_cleaned = ' '.join(review_cleaned)\n",
    "\n",
    "    return review_cleaned"
   ]
  },
  {
   "cell_type": "markdown",
   "id": "a7632fe5",
   "metadata": {
    "id": "a7632fe5"
   },
   "source": [
    "## Q2. Implement a find_occurrence function (5 points):\n",
    "\n",
    "In this function, we find the total occurrence of a word giving information such as label, word and frequency dictionary.\n",
    "\n",
    "Note that this function is used later in the code when we are going to be predicting the output using Naive Bayes. "
   ]
  },
  {
   "cell_type": "code",
   "execution_count": 12,
   "id": "eb282b81",
   "metadata": {
    "id": "eb282b81"
   },
   "outputs": [],
   "source": [
    "# TASK CELL\n",
    "def find_occurrence(frequency, word, label):\n",
    "    '''\n",
    "    Params:\n",
    "        frequency: a dictionary with the frequency of each pair (or tuple)\n",
    "        word: the word to look up\n",
    "        label: the label corresponding to the word\n",
    "    Return:\n",
    "        n: the number of times the word with its corresponding label appears.\n",
    "    '''\n",
    "    pair = (word, label)\n",
    "    n = frequency.get(pair, 0)\n",
    "    \n",
    "    return n"
   ]
  },
  {
   "cell_type": "markdown",
   "id": "29a2249d",
   "metadata": {
    "id": "29a2249d"
   },
   "source": [
    "### Converting output to numerical format:\n",
    "\n",
    "We have outputs as 'positive' or 'negative'. In the cell below, we convert it to a numerical format. "
   ]
  },
  {
   "cell_type": "code",
   "execution_count": 13,
   "id": "bcdc2b2c",
   "metadata": {
    "id": "bcdc2b2c"
   },
   "outputs": [],
   "source": [
    "## With the use of mapping function, we replace\n",
    "## the label in the form of string to an integer. \n",
    "\n",
    "output_map = {'positive': 0, 'negative': 1}\n",
    "y_train = y_train.map(output_map)\n",
    "y_test = y_test.map(output_map)"
   ]
  },
  {
   "cell_type": "code",
   "execution_count": 14,
   "id": "3dde0bbd",
   "metadata": {
    "colab": {
     "base_uri": "https://localhost:8080/"
    },
    "id": "3dde0bbd",
    "outputId": "223dfbc1-8efe-4183-b6d7-c9cb025cb285"
   },
   "outputs": [
    {
     "data": {
      "text/plain": [
       "1    10000\n",
       "0    10000\n",
       "Name: sentiment, dtype: int64"
      ]
     },
     "execution_count": 14,
     "metadata": {},
     "output_type": "execute_result"
    }
   ],
   "source": [
    "## Ensuring that there are equal number of classes on the training data. \n",
    "y_train.value_counts()"
   ]
  },
  {
   "cell_type": "code",
   "execution_count": 15,
   "id": "f2959b85",
   "metadata": {
    "colab": {
     "base_uri": "https://localhost:8080/",
     "height": 178
    },
    "id": "f2959b85",
    "outputId": "e514214b-cd57-43fc-875d-1821ddab63f8"
   },
   "outputs": [
    {
     "data": {
      "text/plain": [
       "'\"Masters of Horror\" has proved itself a poor arena for \\'message episodes,\\' and while a definite case can be made for Joe Dante\\'s \\'Screwfly Solution\\' (one of the best episodes of the series, period), most efforts to do so have come across as anvil-heavy and unimpressive (nothing defuses horror more than a soapbox). And \\'Pro-Life\\' simply fuses reactionary viewpoints with ultra-violence; young Angelique (Caitlin Wachs), seen running through the woods, is nearly hit by 2 doctors (Mark Feuerstein and Emmanuelle Vaugier) who just happen to be driving in to work at the local (and isolated) abortion clinic. Angelique\\'s father, Dwayne (Ron Perlman), is a stone-cold, far-right holy roller who will do anything to prevent his daughter from getting an abortion. If for nothing else, \\'Pro-Life\\' accumulated some buzz for its controversial issue, but John Carpenter treats this whole venture with startling indifference--he seems even less interested in making a movie than the script itself (which is admittedly poor); the slow pacing builds no tension, and simply brings the already ambling plot to a crawl. Even when Dwayne and his sons storm the clinic, guns blazing, it is a stunning non-event; later, when a doctor is tortured with a \\'male abortion,\\' the scene comes off as gratuitous and unnecessary--an effort to pad out the underwritten film. The poor performances (Perlman is sadly wasted here) become an outgrowth of the script, and Carpenter\\'s direction feels exhausted, as if \\'Pro-Life\\' is the source of his next hot meal. By the time a spider-creature with a human head and a guy in a latex monster suit are prowling the hallways, you just have to wonder what the minds behind this mess were thinking...'"
      ]
     },
     "execution_count": 15,
     "metadata": {},
     "output_type": "execute_result"
    }
   ],
   "source": [
    "## Choosing a random review and taking a look at it.\n",
    "X_train.iloc[0]"
   ]
  },
  {
   "cell_type": "markdown",
   "id": "ed5e43c9",
   "metadata": {
    "id": "ed5e43c9"
   },
   "source": [
    "From the above cell output, it could be seen that there are a lot of words that don't add a lot of meaning to the text. \n",
    "\n",
    "Therefore, those words would be removed. It also reduces the computation time. \n",
    "\n",
    "Therefore, it is a good practice we are following."
   ]
  },
  {
   "cell_type": "code",
   "execution_count": 16,
   "id": "ad3937ea",
   "metadata": {
    "colab": {
     "base_uri": "https://localhost:8080/"
    },
    "id": "ad3937ea",
    "outputId": "68985efe-32cd-4c11-ed5b-2e1e1b297e73"
   },
   "outputs": [
    {
     "name": "stdout",
     "output_type": "stream",
     "text": [
      "master horror proved poor arena message episode definite case made joe dante screwfly solution one best episode series period effort come across anvilheavy unimpressive nothing defuses horror soapbox prolife simply fuse reactionary viewpoint ultraviolence young angelique caitlin wachs seen running wood nearly hit 2 doctor mark feuerstein emmanuelle vaugier happen driving work local isolated abortion clinic angelique father dwayne ron perlman stonecold farright holy roller anything prevent daughter getting abortion nothing else prolife accumulated buzz controversial issue john carpenter treat whole venture startling indifferencehe seems even le interested making movie script admittedly poor slow pacing build tension simply brings already ambling plot crawl even dwayne son storm clinic gun blazing stunning nonevent later doctor tortured male abortion scene come gratuitous unnecessaryan effort pad underwritten film poor performance perlman sadly wasted become outgrowth script carpenter direction feel exhausted prolife source next hot meal time spidercreature human head guy latex monster suit prowling hallway wonder mind behind mess thinking\n"
     ]
    }
   ],
   "source": [
    "custom_review = X_train.iloc[0]\n",
    "\n",
    "# print cleaned review\n",
    "print(clean_review(custom_review))"
   ]
  },
  {
   "cell_type": "markdown",
   "id": "3e6cc440",
   "metadata": {
    "id": "3e6cc440"
   },
   "source": [
    "We now use this function to pre-process the review and remove words that don't add a lot of meaning in our model. "
   ]
  },
  {
   "cell_type": "markdown",
   "id": "5a762960",
   "metadata": {
    "id": "5a762960"
   },
   "source": [
    "## Q3. Implementing review counter function: (5 points)\n",
    "\n",
    "It is now time to implement the count function for the reviews. \n",
    "\n",
    "In this function, we count the occurrence of words and get the probabilities \n",
    "for the words based on the training data. \n",
    "\n",
    "In other words, we get the probability of occurrence of a word, given that the output is 'positive'.\n",
    "\n",
    "Similarly, we also compute the probability of occurence of a word, given that the output is 'negative'.\n",
    "\n"
   ]
  },
  {
   "cell_type": "code",
   "execution_count": 17,
   "id": "5de61f77",
   "metadata": {
    "id": "5de61f77"
   },
   "outputs": [],
   "source": [
    "# TASK CELL\n",
    "def review_counter(output_occurrence, reviews, positive_or_negative):\n",
    "    '''\n",
    "    Params:\n",
    "        output_occurrence: a dictionary that will be used to map each pair to its frequency\n",
    "        reviews: a list of reviews\n",
    "        positive_or_negative: a list corresponding to the sentiment of each review (either 0 or 1)\n",
    "    Return:\n",
    "        output: a dictionary mapping each pair to its frequency\n",
    "    '''\n",
    "    ## Steps :\n",
    "    # define the key, which is the word and label tuple\n",
    "    # if the key exists in the dictionary, increment the count\n",
    "    # else, if the key is new, add it to the dictionary and set the count to 1\n",
    "    \n",
    "    for label, review in zip(positive_or_negative, reviews):\n",
    "      split_review = clean_review(review).split()\n",
    "      for word in split_review:\n",
    "        key = (word, label)\n",
    "\n",
    "        if key in output_occurrence:\n",
    "            output_occurrence[key] += 1\n",
    "        else:\n",
    "            output_occurrence[key] = 1\n",
    "   \n",
    "    return output_occurrence"
   ]
  },
  {
   "cell_type": "markdown",
   "id": "18238223",
   "metadata": {
    "id": "18238223"
   },
   "source": [
    "### Test your function with example reviews:\n",
    "\n",
    "Feel free to run the cell below and understand whether the above function that you have defined is producing the optimum results. "
   ]
  },
  {
   "cell_type": "code",
   "execution_count": 18,
   "id": "07a4c58a",
   "metadata": {
    "colab": {
     "base_uri": "https://localhost:8080/"
    },
    "id": "07a4c58a",
    "outputId": "dd9e148a-34a9-4cfe-9077-c5de33493d7a"
   },
   "outputs": [
    {
     "data": {
      "text/plain": [
       "{('got', 1): 1,\n",
       " ('bored', 1): 2,\n",
       " ('throught', 1): 1,\n",
       " ('moview', 1): 1,\n",
       " ('movie', 0): 2,\n",
       " ('fantastic', 0): 1,\n",
       " ('watch', 1): 1,\n",
       " ('complete', 1): 1,\n",
       " ('waste', 1): 1,\n",
       " ('time', 1): 1,\n",
       " ('money', 1): 1,\n",
       " ('enjoyed', 0): 1,\n",
       " ('fullest', 0): 1}"
      ]
     },
     "execution_count": 18,
     "metadata": {},
     "output_type": "execute_result"
    }
   ],
   "source": [
    "# Testing your function\n",
    "\n",
    "result = {}\n",
    "reviews = ['got bored throught the moview', 'The movie was fantastic', 'Will not watch it again', 'Was bored, it was a complete waste of time and money', 'Enjoyed the movie to the fullest']\n",
    "ys = [1, 0, 1, 1, 0]\n",
    "review_counter(result,reviews, ys)"
   ]
  },
  {
   "cell_type": "markdown",
   "id": "927f89bb",
   "metadata": {
    "id": "927f89bb"
   },
   "source": [
    "### Expected Output:\n",
    " {('bored', 1): 2, <br>\n",
    " ('complete', 1): 1, <br>\n",
    " ('enjoyed', 0): 1, <br>\n",
    " ('fantastic', 0): 1, <br>\n",
    " ('fullest', 0): 1, <br>\n",
    " ('got', 1): 1, <br>\n",
    " ('money', 1): 1, <br>\n",
    " ('movie', 0): 2, <br>\n",
    " ('moview', 1): 1, <br>\n",
    " ('throught', 1): 1, <br>\n",
    " ('time', 1): 1, <br>\n",
    " ('waste', 1): 1, <br>\n",
    " ('watch', 1): 1}"
   ]
  },
  {
   "cell_type": "code",
   "execution_count": 19,
   "id": "9bc62e13",
   "metadata": {
    "id": "9bc62e13"
   },
   "outputs": [],
   "source": [
    "# Build the freqs dictionary for later uses\n",
    "\n",
    "freqs = review_counter({}, X_train, y_train)"
   ]
  },
  {
   "cell_type": "code",
   "execution_count": 20,
   "id": "0eddf420",
   "metadata": {
    "id": "0eddf420"
   },
   "outputs": [
    {
     "data": {
      "text/plain": [
       "[('master', 1),\n",
       " ('horror', 1),\n",
       " ('proved', 1),\n",
       " ('poor', 1),\n",
       " ('arena', 1),\n",
       " ('message', 1),\n",
       " ('episode', 1),\n",
       " ('definite', 1),\n",
       " ('case', 1),\n",
       " ('made', 1)]"
      ]
     },
     "execution_count": 20,
     "metadata": {},
     "output_type": "execute_result"
    }
   ],
   "source": [
    "## Run this cell to get an idea about the corpus of words and their occurrence along with labels. \n",
    "## In this, we are computing the frequency of occurrence of word given that a review is 'positive'.\n",
    "## Similarly, we also compute the frequence of occurence of word given that a review is 'negative'.\n",
    "list(freqs)[0:10]"
   ]
  },
  {
   "cell_type": "markdown",
   "id": "759c24bc",
   "metadata": {
    "id": "759c24bc"
   },
   "source": [
    "## Q4. Training the Naive Bayes Model: (20 points)\n",
    "\n",
    "Now we are in the training phase of the Naive Bayes algorithm. In this cell, take a look at the ways to calculate the log likelihood and log prior values as these are important for testing in the next few cells. \n",
    "\n",
    "Also calculate the frequency of occurrence of words where the output is negative. In the same way, calculate the word frequency count using the above functions in order to compute the log likelihood.\n",
    "\n",
    "Return the logprior and loglikelihood output by the model from this function. "
   ]
  },
  {
   "cell_type": "code",
   "execution_count": 21,
   "id": "a7f280e3",
   "metadata": {
    "id": "a7f280e3"
   },
   "outputs": [],
   "source": [
    "def train_naive_bayes(freqs, train_x, train_y):\n",
    "    '''\n",
    "    Input:\n",
    "        freqs: dictionary from (word, label) to how often the word appears\n",
    "        train_x: a list of reviews\n",
    "        train_y: a list of labels correponding to the reviews (0,1)\n",
    "    Output:\n",
    "        logprior: the log prior. (equation 3 above)\n",
    "        loglikelihood: the log likelihood of you Naive bayes equation. (equation 6 above)\n",
    "    '''\n",
    "    loglikelihood = {}\n",
    "    logprior = 0\n",
    "\n",
    "    # calculate V, the number of unique words in the vocabulary\n",
    "    vocab = set([pair[0] for pair in freqs.keys()])\n",
    "    V = len(vocab)\n",
    "\n",
    "    # calculate num_pos and num_neg - the total number of positive and negative words for all documents\n",
    "    num_pos = num_neg = 0\n",
    "    for pair in freqs.keys():\n",
    "        # if the label is positive (greater than zero)\n",
    "        if pair[1] > 0:\n",
    "\n",
    "            # Increment the number of positive words by the count for this (word, label) pair\n",
    "            num_pos += freqs[pair]\n",
    "\n",
    "        # else, the label is negative\n",
    "        else:\n",
    "\n",
    "            # increment the number of negative words by the count for this (word,label) pair\n",
    "            num_neg += freqs[pair]\n",
    "\n",
    "    # Calculate num_doc, the number of documents\n",
    "    num_doc = len(train_y)\n",
    "\n",
    "    # Calculate D_pos, the number of positive documents \n",
    "    D_pos = sum(train_y)\n",
    "\n",
    "    # Calculate D_neg, the number of negative documents \n",
    "    D_neg = num_doc - D_pos\n",
    "\n",
    "    # Calculate logprior\n",
    "    logprior = np.log(D_pos) - np.log(D_neg)\n",
    "\n",
    "    # For each word in the vocabulary...\n",
    "    for word in vocab:\n",
    "        # get the positive and negative frequency of the word\n",
    "        freq_pos = find_occurrence(freqs, word, 1)\n",
    "        freq_neg = find_occurrence(freqs, word, 0)\n",
    "        \n",
    "        # calculate the probability that each word is positive, and negative\n",
    "        p_w_pos = (freq_pos + 1) / (num_pos + V)\n",
    "        p_w_neg = (freq_neg + 1) / (num_neg + V)\n",
    "\n",
    "        # calculate the log likelihood of the word\n",
    "        loglikelihood[word] = np.log(p_w_pos / p_w_neg)\n",
    "\n",
    "\n",
    "    return logprior, loglikelihood"
   ]
  },
  {
   "cell_type": "code",
   "execution_count": 22,
   "id": "1561d892",
   "metadata": {
    "id": "1561d892"
   },
   "outputs": [
    {
     "name": "stdout",
     "output_type": "stream",
     "text": [
      "0.0\n",
      "91915\n"
     ]
    }
   ],
   "source": [
    "# You do not have to input any code in this cell, but it is relevant to grading, so please do not change anything\n",
    "logprior, loglikelihood = train_naive_bayes(freqs, X_train, y_train)\n",
    "print(logprior)\n",
    "print(len(loglikelihood))"
   ]
  },
  {
   "cell_type": "markdown",
   "id": "19d9c882",
   "metadata": {
    "id": "19d9c882"
   },
   "source": [
    "### Expected Output \n",
    "\n",
    "0.0 <br>\n",
    "91425"
   ]
  },
  {
   "cell_type": "markdown",
   "id": "78b51303",
   "metadata": {
    "id": "78b51303"
   },
   "source": [
    "## Q5. Implementing Naive Bayes Predict Function: (10 points)\n",
    "\n",
    "It is now time to make our prediction as to whether a given review is negative or positive respectively. \n",
    "\n",
    "After adding the log likelihood values, ensure that the output is 1 (negative) if the sum of the log likelihood value is greater than 0 and 0 (positive) if the sum of the log likelihood is less than or equal to 0. "
   ]
  },
  {
   "cell_type": "code",
   "execution_count": 23,
   "id": "b692c2f9",
   "metadata": {
    "id": "b692c2f9"
   },
   "outputs": [],
   "source": [
    "# TASK 4 CELL\n",
    "\n",
    "def naive_bayes_predict(review, logprior, loglikelihood):\n",
    "    '''\n",
    "    Params:\n",
    "        review: a string\n",
    "        logprior: a number\n",
    "        loglikelihood: a dictionary of words mapping to numbers\n",
    "    Return:\n",
    "        total_prob: the sum of all the loglikelihoods of each word in the review (if found in the dictionary) + logprior (a number)\n",
    "\n",
    "    '''\n",
    "    # process the review to get a list of words\n",
    "    word_l = clean_review(review).split()\n",
    "\n",
    "    # initialize probability to zero\n",
    "    total_prob = 0\n",
    "    \n",
    "    # add the logprior\n",
    "    total_prob += logprior\n",
    "\n",
    "    for word in word_l:\n",
    "        # check if the word exists in the loglikelihood dictionary\n",
    "        if word in loglikelihood:\n",
    "            # add the log likelihood of that word to the probability\n",
    "            total_prob += loglikelihood[word]\n",
    "\n",
    "    # classify as 1 (negative) if total_prob >= 0, else 0 (positive)\n",
    "    return 1 if total_prob >= 0 else 0"
   ]
  },
  {
   "cell_type": "code",
   "execution_count": 24,
   "id": "4b170333",
   "metadata": {
    "colab": {
     "base_uri": "https://localhost:8080/"
    },
    "id": "4b170333",
    "outputId": "0cf6bc90-90e8-4dee-bf95-7eaf39dce147"
   },
   "outputs": [
    {
     "name": "stdout",
     "output_type": "stream",
     "text": [
      "The expected output is 1\n"
     ]
    }
   ],
   "source": [
    "# You do not have to input any code in this cell, but it is relevant to grading, so please do not change anything\n",
    "\n",
    "# Experiment with your own review.\n",
    "my_review = \"I thought this series was going to be another fun, action series with some dynamic plots and great performances. I was wrong. While I like Jamie Denton, this show is hardly worth watching at all, unless you enjoy watching some people brutalized and the actions of the agents supposedly warranted under the theme of national security. The show is great propaganda for the current government, and spews out jingoism as though we talk that way every day. After a couple of episodes, it was boring the hell out of me, and I started watching reruns of House Invaders on BBCAmerica instead. Rather watch CSI and Without a Trace, without a doubt.\"\n",
    "p = naive_bayes_predict(my_review, logprior, loglikelihood)\n",
    "print('The expected output is', p)"
   ]
  },
  {
   "cell_type": "markdown",
   "id": "6242708f",
   "metadata": {
    "id": "6242708f"
   },
   "source": [
    "### Expected Output :\n",
    "The expected output is 1"
   ]
  },
  {
   "cell_type": "markdown",
   "id": "7c4eeb71",
   "metadata": {
    "id": "7c4eeb71"
   },
   "source": [
    "## Q6. Implementing Naive Bayes Test function: (10 points)\n",
    "\n",
    "In this function, implement the previous functions such as naive_bayes_predict to get the predictions for the test set. \n",
    "\n",
    "In addition to this, the function should return the total number of reviews that it correctly classified as 'positive' or 'negative'. "
   ]
  },
  {
   "cell_type": "code",
   "execution_count": 25,
   "id": "66a511e7",
   "metadata": {
    "id": "66a511e7"
   },
   "outputs": [],
   "source": [
    "# UNQ_C6 (UNIQUE CELL IDENTIFIER, DO NOT EDIT)\n",
    "def test_naive_bayes(test_x, test_y, logprior, loglikelihood):\n",
    "    \"\"\"\n",
    "    Input:\n",
    "        test_x: A list of reviews\n",
    "        test_y: the corresponding labels for the list of reviews\n",
    "        logprior: the logprior\n",
    "        loglikelihood: a dictionary with the loglikelihoods for each word\n",
    "    Output:\n",
    "        accuracy: (# of reviews classified correctly)/(total # of reviews)\n",
    "    \"\"\"\n",
    "    accuracy = 0  \n",
    "\n",
    "    y_hats = []\n",
    "    for review in test_x:\n",
    "        # if the prediction is > 0\n",
    "        if naive_bayes_predict(review, logprior, loglikelihood) > 0:\n",
    "            # the predicted class is 1\n",
    "            y_hat_i = 1\n",
    "        else:\n",
    "            # otherwise the predicted class is 0\n",
    "            y_hat_i = 0\n",
    "\n",
    "        # append the predicted class to the list y_hats\n",
    "        y_hats.append(y_hat_i)\n",
    "\n",
    "    # error is the average of the absolute values of the differences between y_hats and test_y\n",
    "    error = sum(abs(y_hat_i - y) for y_hat_i, y in zip(y_hats, test_y)) / len(test_y)\n",
    "\n",
    "    accuracy = 1 - error\n",
    "\n",
    "    return y_hats, accuracy\n"
   ]
  },
  {
   "cell_type": "code",
   "execution_count": 26,
   "id": "8a9c5d9d",
   "metadata": {
    "id": "8a9c5d9d"
   },
   "outputs": [
    {
     "name": "stdout",
     "output_type": "stream",
     "text": [
      "If you like original gut wrenching laughter you will like this movie. If you are young or old then y -> 0.00\n",
      "What a waste of talent. A very poor, semi-coherent, script cripples this film. Rather unimaginative  -> 1.00\n",
      "I have seen this film at least 100 times and I am still excited by it, the acting is perfect and the -> 0.00\n",
      "Cheap, amateurish, unimaginative, exploitative... but don't think it'll have redeeming amusement val -> 1.00\n"
     ]
    }
   ],
   "source": [
    "# For grading purpose only\n",
    "# You do not have to input any code in this cell, but it is relevant to grading, so please do not change anything\n",
    "\n",
    "# Run this cell to test your function\n",
    "\n",
    "for review in [\"If you like original gut wrenching laughter you will like this movie. If you are young or old then you will love this movie, hell even my mom liked it.<br /><br />Great Camp!!!\",\n",
    "                \"What a waste of talent. A very poor, semi-coherent, script cripples this film. Rather unimaginative direction, too. Some VERY faint echoes of Fargo here, but it just doesn't come off.\",\n",
    "                \"I have seen this film at least 100 times and I am still excited by it, the acting is perfect and the romance between Joe and Jean keeps me on the edge of my seat, plus I still think Bryan Brown is the tops. Brilliant Film.\",\n",
    "                \"Cheap, amateurish, unimaginative, exploitative... but don't think it'll have redeeming amusement value. About as unentertaining, uninstructive and just plain dull as a film can be.\"]:\n",
    "    p = naive_bayes_predict(review, logprior, loglikelihood)\n",
    "    print(f'{review[:100]} -> {p:.2f}')\n",
    "    "
   ]
  },
  {
   "cell_type": "markdown",
   "id": "43e2ef98",
   "metadata": {
    "id": "43e2ef98"
   },
   "source": [
    "### Expected Output :\n",
    "\n",
    "If you like original gut wrenching laughter you will like this movie. If you are young or old then y -> 0.00 <br>\n",
    "What a waste of talent. A very poor, semi-coherent, script cripples this film. Rather unimaginative  -> 1.00<br>\n",
    "I have seen this film at least 100 times and I am still excited by it, the acting is perfect and the -> 0.00 <br>\n",
    "Cheap, amateurish, unimaginative, exploitative... but don't think it'll have redeeming amusement val -> 1.00\n",
    "\n"
   ]
  },
  {
   "cell_type": "code",
   "execution_count": 27,
   "id": "216fa97a",
   "metadata": {
    "colab": {
     "base_uri": "https://localhost:8080/"
    },
    "id": "216fa97a",
    "outputId": "9d1f21c7-b324-43c2-e841-269c0306cbb4"
   },
   "outputs": [
    {
     "data": {
      "text/plain": [
       "1"
      ]
     },
     "execution_count": 27,
     "metadata": {},
     "output_type": "execute_result"
    }
   ],
   "source": [
    "# Feel free to check the sentiment of your own review below\n",
    "my_review = 'The moview was very boring, I wanted to leave in the middle'\n",
    "naive_bayes_predict(my_review, logprior, loglikelihood)"
   ]
  },
  {
   "cell_type": "markdown",
   "id": "8a45e4f0",
   "metadata": {
    "id": "8a45e4f0"
   },
   "source": [
    "### Expected Output :\n",
    "1"
   ]
  },
  {
   "cell_type": "markdown",
   "id": "mAIkM4aCC1H7",
   "metadata": {
    "id": "mAIkM4aCC1H7"
   },
   "source": [
    "# Q7. Evaluate the accuracy (10 Points)\n",
    "1. Split your data into training and test sets using random selection. Set the seed as parameter of the function so that user can select a different training and test set by changin seed.\n",
    "\n",
    "2. Calculate model paramters with training set.\n",
    "\n",
    "3. Print confusion matrix for training and test set.\n",
    "\n",
    "4. Examine False Positive and False Negative cases and provide reasoning why they get misclassified."
   ]
  },
  {
   "cell_type": "code",
   "execution_count": 28,
   "id": "321f3645-9753-400d-b4fe-108b61473393",
   "metadata": {},
   "outputs": [],
   "source": [
    "def split_data(df, random_state = 44):\n",
    "\n",
    "    df_majority = df[df.sentiment == 'positive']\n",
    "    df_minority = df[df.sentiment == 'negative']\n",
    "\n",
    "    negative_upsample = resample(df_minority, replace = True, \n",
    "                            n_samples = df_majority.shape[0],\n",
    "                            random_state = random_state)\n",
    "\n",
    "    df_upsampled = pd.concat([df_majority, negative_upsample])  # concat two data frames i,e majority class data set and upsampled minority class data set\n",
    "    df_upsampled = df_upsampled.sample(frac = 1)\n",
    "    \n",
    "    \n",
    "\n",
    "    ## Considering 10000 positive and 10000 negative data points\n",
    "    negative_data_points_train = df_upsampled[df_upsampled['sentiment'] == 'negative'].iloc[:10000]\n",
    "    positive_data_points_train = df_upsampled[df_upsampled['sentiment'] == 'positive'].iloc[:10000]\n",
    "\n",
    "    ## Considering the remaining data points for test\n",
    "    negative_data_points_test = df_upsampled[df_upsampled['sentiment'] == 'negative'].iloc[10000:]\n",
    "    positive_data_points_test = df_upsampled[df_upsampled['sentiment'] == 'positive'].iloc[10000:]\n",
    "\n",
    "    ## Concatenate the training positive and negative reviews\n",
    "    X_train = pd.concat([negative_data_points_train['review'], positive_data_points_train['review']])\n",
    "    ## Concatenating the training positive and negative outputs\n",
    "    y_train = pd.concat([negative_data_points_train['sentiment'], positive_data_points_train['sentiment']])\n",
    "\n",
    "    ## Concatenating the test positive and negative reviews\n",
    "    X_test = pd.concat([negative_data_points_test['review'], positive_data_points_test['review']])\n",
    "    ## Concatenating the test positive and negative outputs\n",
    "    y_test = pd.concat([negative_data_points_test['sentiment'], positive_data_points_test['sentiment']])\n",
    "    \n",
    "    output_map = {'positive': 0, 'negative': 1}\n",
    "    y_train = y_train.map(output_map)\n",
    "    y_test = y_test.map(output_map)\n",
    "    \n",
    "    return X_train, y_train, X_test, y_test"
   ]
  },
  {
   "cell_type": "code",
   "execution_count": 29,
   "id": "21222878-e231-4edc-afdd-557ac309d4e0",
   "metadata": {},
   "outputs": [
    {
     "data": {
      "text/plain": [
       "\"One of the other reviewers has mentioned that after watching just 1 Oz episode you'll be hooked. They are right, as this is exactly what happened with me.<br /><br />The first thing that struck me about Oz was its brutality and unflinching scenes of violence, which set in right from the word GO. Trust me, this is not a show for the faint hearted or timid. This show pulls no punches with regards to drugs, sex or violence. Its is hardcore, in the classic use of the word.<br /><br />It is called OZ as that is the nickname given to the Oswald Maximum Security State Penitentary. It focuses mainly on Emerald City, an experimental section of the prison where all the cells have glass fronts and face inwards, so privacy is not high on the agenda. Em City is home to many..Aryans, Muslims, gangstas, Latinos, Christians, Italians, Irish and more....so scuffles, death stares, dodgy dealings and shady agreements are never far away.<br /><br />I would say the main appeal of the show is due to the fact that it goes where other shows wouldn't dare. Forget pretty pictures painted for mainstream audiences, forget charm, forget romance...OZ doesn't mess around. The first episode I ever saw struck me as so nasty it was surreal, I couldn't say I was ready for it, but as I watched more, I developed a taste for Oz, and got accustomed to the high levels of graphic violence. Not just violence, but injustice (crooked guards who'll be sold out for a nickel, inmates who'll kill on order and get away with it, well mannered, middle class inmates being turned into prison bitches due to their lack of street skills or prison experience) Watching Oz, you may become comfortable with what is uncomfortable viewing....thats if you can get in touch with your darker side.\""
      ]
     },
     "execution_count": 29,
     "metadata": {},
     "output_type": "execute_result"
    }
   ],
   "source": [
    "X_train, y_train, X_test, y_test = split_data(df, random_state = 101)\n",
    "X_train[0]"
   ]
  },
  {
   "cell_type": "code",
   "execution_count": 30,
   "id": "a32c5a36-79e3-4456-86ac-c30088337c18",
   "metadata": {
    "tags": []
   },
   "outputs": [],
   "source": [
    "freqs = review_counter({}, X_train, y_train)\n",
    "\n",
    "logprior, loglikelihood = train_naive_bayes(freqs, X_train, y_train)"
   ]
  },
  {
   "cell_type": "code",
   "execution_count": 31,
   "id": "ec2f2eb7-3e83-4a93-82b8-9af1a845f2a8",
   "metadata": {},
   "outputs": [],
   "source": [
    "train_preds, train_accuracy = test_naive_bayes(X_train, y_train, logprior, loglikelihood)"
   ]
  },
  {
   "cell_type": "code",
   "execution_count": 32,
   "id": "4bb8cc66-21a4-46a9-b7ba-237fc5a4c0a7",
   "metadata": {},
   "outputs": [
    {
     "data": {
      "text/plain": [
       "0.94125"
      ]
     },
     "execution_count": 32,
     "metadata": {},
     "output_type": "execute_result"
    }
   ],
   "source": [
    "train_accuracy"
   ]
  },
  {
   "cell_type": "code",
   "execution_count": 33,
   "id": "89903e78-25fa-441a-9ddf-62a6829163a3",
   "metadata": {},
   "outputs": [
    {
     "name": "stdout",
     "output_type": "stream",
     "text": [
      "Training Confusion Matrix:\n"
     ]
    },
    {
     "data": {
      "text/plain": [
       "array([[9174,  826],\n",
       "       [ 349, 9651]], dtype=int64)"
      ]
     },
     "execution_count": 33,
     "metadata": {},
     "output_type": "execute_result"
    }
   ],
   "source": [
    "from sklearn.metrics import confusion_matrix\n",
    "print(\"Training Confusion Matrix:\")\n",
    "confusion_matrix(y_train, train_preds)"
   ]
  },
  {
   "cell_type": "code",
   "execution_count": 34,
   "id": "c07f24bb-1b60-4ad9-b4fa-be994da385d6",
   "metadata": {},
   "outputs": [],
   "source": [
    "y_pred, accuracy = test_naive_bayes(X_test, y_test, logprior, loglikelihood)"
   ]
  },
  {
   "cell_type": "code",
   "execution_count": 35,
   "id": "a7337749-7d25-40d3-a399-2e15af569d88",
   "metadata": {},
   "outputs": [
    {
     "data": {
      "text/plain": [
       "0.8821746160064673"
      ]
     },
     "execution_count": 35,
     "metadata": {},
     "output_type": "execute_result"
    }
   ],
   "source": [
    "accuracy"
   ]
  },
  {
   "cell_type": "code",
   "execution_count": 36,
   "id": "cd24323d-386d-402a-9657-7ee8b9ad2f3d",
   "metadata": {},
   "outputs": [
    {
     "name": "stdout",
     "output_type": "stream",
     "text": [
      "Test Confusion Matrix:\n"
     ]
    },
    {
     "data": {
      "text/plain": [
       "array([[2126,  348],\n",
       "       [ 235, 2239]], dtype=int64)"
      ]
     },
     "execution_count": 36,
     "metadata": {},
     "output_type": "execute_result"
    }
   ],
   "source": [
    "print(\"Test Confusion Matrix:\")\n",
    "conf = confusion_matrix(y_test, y_pred)\n",
    "conf"
   ]
  },
  {
   "cell_type": "code",
   "execution_count": 37,
   "id": "9f347935-8fd1-462e-8e59-a8ae4574a5f4",
   "metadata": {},
   "outputs": [
    {
     "name": "stdout",
     "output_type": "stream",
     "text": [
      "precision\n"
     ]
    },
    {
     "data": {
      "text/plain": [
       "0.8593371059013742"
      ]
     },
     "execution_count": 37,
     "metadata": {},
     "output_type": "execute_result"
    }
   ],
   "source": [
    "print(\"precision\")\n",
    "TP = conf[0][0]\n",
    "FP = conf[0][1]\n",
    "FN = conf[1][0]\n",
    "TP/(TP+FP)"
   ]
  },
  {
   "cell_type": "code",
   "execution_count": 38,
   "id": "f62d7a6d-3e01-4745-917d-b5712dadfdf2",
   "metadata": {},
   "outputs": [
    {
     "name": "stdout",
     "output_type": "stream",
     "text": [
      "recall\n"
     ]
    },
    {
     "data": {
      "text/plain": [
       "0.9004659042778483"
      ]
     },
     "execution_count": 38,
     "metadata": {},
     "output_type": "execute_result"
    }
   ],
   "source": [
    "print(\"recall\")\n",
    "TP/(TP+FN)"
   ]
  },
  {
   "cell_type": "code",
   "execution_count": 63,
   "id": "bf48d961-627e-41ca-af58-13ccecc4065d",
   "metadata": {},
   "outputs": [
    {
     "name": "stdout",
     "output_type": "stream",
     "text": [
      "Example 1\n",
      "Are we really making 'video nasties' again? In the guise of a digital wide screen big budget remake of 8MM, this is quite a ride. Unfortunately there is a bit too much story and at times this becomes like a travelogue as our heroine searches the sleaze spots of Paris, Hamburg and Amsterdam. I am however being rather churlish for the 'depraved' scenes, including everything from, hot wax, harsh whipping and rough sex to drowning, beheading and some. These scenes are immaculate and it's a pity Bruno and his budget couldn't stretch to make all the many characterful creatures introduced become more than simply caricatures.\n",
      "Actual: 0\n",
      "Predicted: 1\n",
      "\n",
      "Example 2\n",
      "Mann photographs the Alberta Rocky Mountains in a superb fashion, and Jimmy Stewart and Walter Brennan give enjoyable performances as they always seem to do. <br /><br />But come on Hollywood - a Mountie telling the people of Dawson City, Yukon to elect themselves a marshal (yes a marshal!) and to enforce the law themselves, then gunfighters battling it out on the streets for control of the town? <br /><br />Nothing even remotely resembling that happened on the Canadian side of the border during the Klondike gold rush. Mr. Mann and company appear to have mistaken Dawson City for Deadwood, the Canadian North for the American Wild West.<br /><br />Canadian viewers be prepared for a Reefer Madness type of enjoyable howl with this ludicrous plot, or, to shake your head in disgust.\n",
      "Actual: 1\n",
      "Predicted: 0\n",
      "\n",
      "Example 3\n",
      "OK... this movie so far has been slated by critics and board-posters alike (although playing devil's advocate you could suggest that critics are often people who didn't make it for themselves as film-makers, and board posters are often people who didn't make it for themselves as critics) so I wanted to sit in Guy's corner with the magic sponge to perhaps reach maybe a couple of the people who've decided not to see the film based on how everybody seems to be looking down their collective nose of approval at it.<br /><br />The film's biggest flaw in earning wide support is how unexpectedly complex it is. This has been described many times as as making the film \"inaccessible\" to the viewer. The film's chronology is relatively non-linear and the characters are used as not only a means of storytelling but as a device for showing us the subtle (or not so subtle) hints of bias we give things as we commit them to memory, IE. Ray Liotta's character brandishing a gun saying the words \"fear me\" is portrayed as both tragically pathetic (from Statham's POV) or interrogating and bold (from Liotta's POV). This is but one example of Ritchie's far more mature approach he has taken to film-making with Revolver, we have a storyline which is pretty archetypal (the strong but silent gritty anti-hero gets released from jail with a score to settle but gets drawn inadvertently into a world of corruption... I mean it's paint by numbers film noir here guys, all the way down to the vague poetic choice of diction and the gritty voice-overs) but then Guy has taken this framework to make a number of extremely philosophical and complex points.<br /><br />Take the scene where Jason Statham's character runs afoul of a car. This throwaway sequence could have been emitted from the film and made no difference to the story whatsoever... but Ritchie is making point about how such little chance happenings such as receiving a phone call can make the difference between life and death.<br /><br />So the final act of the movie is pretty mind boggling, I'd be taking the p*ss if I said I didn't spend the last 20 minutes or so of the film turning to my date going \"uh... wtf?\"... but that is the shoddiest reason to disregard a piece of art. It is far too easy to dislike something because you find it hard to understand. And even easier to say \"well nobody else seemed to understand it so it must be a real turd of a film!\". In my humble opinion, Revolver is a stylish, complex and mature piece of modern art which should be greeted with the same manner we would give the work of the Saatchi Brothers. If we choose this opportunity to collectively say \"Ah sh*t, I wanted a film about a load of bleeding' cockney gangsters in-nit loll... Guy Ritchie is a tit!\" then the day will come when film-makers are allowed only to make that which is expected of them by shallow, crappy people. Just because Guy made a name for himself with funny, cheeky cockney romps, doesn't mean he can't be deep without being \"pretentious\". Funny people can be thoughtful too.\n",
      "Actual: 0\n",
      "Predicted: 1\n",
      "\n"
     ]
    }
   ],
   "source": [
    "rand.seed(56)\n",
    "misses = [i for i, x in enumerate(list(y_pred != y_test)) if x]\n",
    "for i in range(3):\n",
    "    print(f\"Example {i+1}\")\n",
    "    num = rand.randint(0,len(misses))\n",
    "    num = misses[num]\n",
    "    print(X_test.iloc[num])\n",
    "    print(f\"Actual: {y_test.iloc[num]}\")\n",
    "    print(f\"Predicted: {y_pred[num]}\\n\")"
   ]
  },
  {
   "cell_type": "markdown",
   "id": "d800792b-1ac3-4e1f-9ed4-d00141ccda09",
   "metadata": {},
   "source": [
    "### Example 1\n",
    "Are we really making 'video nasties' again? In the guise of a digital wide screen big budget remake of 8MM, this is quite a ride. Unfortunately there is a bit too much story and at times this becomes like a travelogue as our heroine searches the sleaze spots of Paris, Hamburg and Amsterdam. I am however being rather churlish for the 'depraved' scenes, including everything from, hot wax, harsh whipping and rough sex to drowning, beheading and some. These scenes are immaculate and it's a pity Bruno and his budget couldn't stretch to make all the many characterful creatures introduced become more than simply caricatures.\n",
    "\n",
    "#### Actual: 1\n",
    "#### Predicted: 0\n",
    "\n",
    "##### This example, while negative overall, has some wording like \"immaculate\" and \"characterful\" that may balance out some of the negativity. Also, phrases like \"Unfortunately there is a bit too much story\" may not come across as well to a Naive Bayes classifier, where it is a bit more of a nuanced phrasing.\n",
    "\n",
    "\n",
    "### Example 2\n",
    "Mann photographs the Alberta Rocky Mountains in a superb fashion, and Jimmy Stewart and Walter Brennan give enjoyable performances as they always seem to do. <br /><br />But come on Hollywood - a Mountie telling the people of Dawson City, Yukon to elect themselves a marshal (yes a marshal!) and to enforce the law themselves, then gunfighters battling it out on the streets for control of the town? <br /><br />Nothing even remotely resembling that happened on the Canadian side of the border during the Klondike gold rush. Mr. Mann and company appear to have mistaken Dawson City for Deadwood, the Canadian North for the American Wild West.<br /><br />Canadian viewers be prepared for a Reefer Madness type of enjoyable howl with this ludicrous plot, or, to shake your head in disgust.\n",
    "\n",
    "##### Phrases like \"superb fashion\" and \"enjoyable performances\" have likely positive connotation, while much of the negativity is a bit more subtle like complaints about the content and historical accuracy.\n",
    "\n",
    "#### Actual: 1\n",
    "#### Predicted: 0\n",
    "\n",
    "##### This \n",
    "\n",
    "### Example 3\n",
    "OK... this movie so far has been slated by critics and board-posters alike (although playing devil's advocate you could suggest that critics are often people who didn't make it for themselves as film-makers, and board posters are often people who didn't make it for themselves as critics) so I wanted to sit in Guy's corner with the magic sponge to perhaps reach maybe a couple of the people who've decided not to see the film based on how everybody seems to be looking down their collective nose of approval at it.<br /><br />The film's biggest flaw in earning wide support is how unexpectedly complex it is. This has been described many times as as making the film \"inaccessible\" to the viewer. The film's chronology is relatively non-linear and the characters are used as not only a means of storytelling but as a device for showing us the subtle (or not so subtle) hints of bias we give things as we commit them to memory, IE. Ray Liotta's character brandishing a gun saying the words \"fear me\" is portrayed as both tragically pathetic (from Statham's POV) or interrogating and bold (from Liotta's POV). This is but one example of Ritchie's far more mature approach he has taken to film-making with Revolver, we have a storyline which is pretty archetypal (the strong but silent gritty anti-hero gets released from jail with a score to settle but gets drawn inadvertently into a world of corruption... I mean it's paint by numbers film noir here guys, all the way down to the vague poetic choice of diction and the gritty voice-overs) but then Guy has taken this framework to make a number of extremely philosophical and complex points.<br /><br />Take the scene where Jason Statham's character runs afoul of a car. This throwaway sequence could have been emitted from the film and made no difference to the story whatsoever... but Ritchie is making point about how such little chance happenings such as receiving a phone call can make the difference between life and death.<br /><br />So the final act of the movie is pretty mind boggling, I'd be taking the p*ss if I said I didn't spend the last 20 minutes or so of the film turning to my date going \"uh... wtf?\"... but that is the shoddiest reason to disregard a piece of art. It is far too easy to dislike something because you find it hard to understand. And even easier to say \"well nobody else seemed to understand it so it must be a real turd of a film!\". In my humble opinion, Revolver is a stylish, complex and mature piece of modern art which should be greeted with the same manner we would give the work of the Saatchi Brothers. If we choose this opportunity to collectively say \"Ah sh*t, I wanted a film about a load of bleeding' cockney gangsters in-nit loll... Guy Ritchie is a tit!\" then the day will come when film-makers are allowed only to make that which is expected of them by shallow, crappy people. Just because Guy made a name for himself with funny, cheeky cockney romps, doesn't mean he can't be deep without being \"pretentious\". Funny people can be thoughtful too.\n",
    "\n",
    "#### Actual: 0\n",
    "#### Predicted: 1\n",
    "\n",
    "##### Phrases like \"everybody seems to be looking down\", and \"portrayed as both tragically pathetic\" likely suffer in the Naive model we have. While these certainly seem like negative phrases taken out of context, they aren't particularly negative towards the film itself. Phrasing like \"It is far too easy to dislike something because you find it hard to understand.\" is probably the type that a naive model will not perform well on, but ends up being much of the review.\n",
    "\n",
    "\n",
    "###### Cleaned Reviews below for reference"
   ]
  },
  {
   "cell_type": "code",
   "execution_count": 64,
   "id": "e3d328d5-0485-4e9e-a513-0afaf0a1bad8",
   "metadata": {},
   "outputs": [
    {
     "data": {
      "text/plain": [
       "'really making video nasties guise digital wide screen big budget remake 8mm quite ride unfortunately bit much story time becomes like travelogue heroine search sleaze spot paris hamburg amsterdam however rather churlish depraved scene including everything hot wax harsh whipping rough sex drowning beheading scene immaculate pity bruno budget couldnt stretch make many characterful creature introduced become simply caricature'"
      ]
     },
     "execution_count": 64,
     "metadata": {},
     "output_type": "execute_result"
    }
   ],
   "source": [
    "clean_review(\"Are we really making 'video nasties' again? In the guise of a digital wide screen big budget remake of 8MM, this is quite a ride. Unfortunately there is a bit too much story and at times this becomes like a travelogue as our heroine searches the sleaze spots of Paris, Hamburg and Amsterdam. I am however being rather churlish for the 'depraved' scenes, including everything from, hot wax, harsh whipping and rough sex to drowning, beheading and some. These scenes are immaculate and it's a pity Bruno and his budget couldn't stretch to make all the many characterful creatures introduced become more than simply caricatures.\")"
   ]
  },
  {
   "cell_type": "code",
   "execution_count": 65,
   "id": "72e72d80-1ea9-4ba8-941b-f977b4d98f12",
   "metadata": {},
   "outputs": [
    {
     "data": {
      "text/plain": [
       "'mann photograph alberta rocky mountain superb fashion jimmy stewart walter brennan give enjoyable performance always seem br br come hollywood mountie telling people dawson city yukon elect marshal yes marshal enforce law gunfighters battling street control town br br nothing even remotely resembling happened canadian side border klondike gold rush mr mann company appear mistaken dawson city deadwood canadian north american wild westbr br canadian viewer prepared reefer madness type enjoyable howl ludicrous plot shake head disgust'"
      ]
     },
     "execution_count": 65,
     "metadata": {},
     "output_type": "execute_result"
    }
   ],
   "source": [
    "clean_review(\"Mann photographs the Alberta Rocky Mountains in a superb fashion, and Jimmy Stewart and Walter Brennan give enjoyable performances as they always seem to do. <br /><br />But come on Hollywood - a Mountie telling the people of Dawson City, Yukon to elect themselves a marshal (yes a marshal!) and to enforce the law themselves, then gunfighters battling it out on the streets for control of the town? <br /><br />Nothing even remotely resembling that happened on the Canadian side of the border during the Klondike gold rush. Mr. Mann and company appear to have mistaken Dawson City for Deadwood, the Canadian North for the American Wild West.<br /><br />Canadian viewers be prepared for a Reefer Madness type of enjoyable howl with this ludicrous plot, or, to shake your head in disgust.\")"
   ]
  },
  {
   "cell_type": "code",
   "execution_count": 67,
   "id": "d35801cc-806e-4cc7-9c3e-33d85b4661dd",
   "metadata": {},
   "outputs": [
    {
     "data": {
      "text/plain": [
       "'ok movie far slated critic boardposters alike although playing devil advocate could suggest critic often people didnt make filmmaker board poster often people didnt make critic wanted sit guy corner magic sponge perhaps reach maybe couple people whove decided see film based everybody seems looking collective nose approval itbr br film biggest flaw earning wide support unexpectedly complex described many time making film inaccessible viewer film chronology relatively nonlinear character used mean storytelling device showing u subtle subtle hint bias give thing commit memory ie ray liottas character brandishing gun saying word fear portrayed tragically pathetic stathams pov interrogating bold liottas pov one example ritchies far mature approach taken filmmaking revolver storyline pretty archetypal strong silent gritty antihero get released jail score settle get drawn inadvertently world corruption mean paint number film noir guy way vague poetic choice diction gritty voiceovers guy taken framework make number extremely philosophical complex pointsbr br take scene jason stathams character run afoul car throwaway sequence could emitted film made difference story whatsoever ritchie making point little chance happening receiving phone call make difference life deathbr br final act movie pretty mind boggling id taking ps said didnt spend last 20 minute film turning date going uh wtf shoddiest reason disregard piece art far easy dislike something find hard understand even easier say well nobody else seemed understand must real turd film humble opinion revolver stylish complex mature piece modern art greeted manner would give work saatchi brother choose opportunity collectively say ah sht wanted film load bleeding cockney gangster innit loll guy ritchie tit day come filmmaker allowed make expected shallow crappy people guy made name funny cheeky cockney romp doesnt mean cant deep without pretentious funny people thoughtful'"
      ]
     },
     "execution_count": 67,
     "metadata": {},
     "output_type": "execute_result"
    }
   ],
   "source": [
    "clean_review(\"OK... this movie so far has been slated by critics and board-posters alike (although playing devil's advocate you could suggest that critics are often people who didn't make it for themselves as film-makers, and board posters are often people who didn't make it for themselves as critics) so I wanted to sit in Guy's corner with the magic sponge to perhaps reach maybe a couple of the people who've decided not to see the film based on how everybody seems to be looking down their collective nose of approval at it.<br /><br />The film's biggest flaw in earning wide support is how unexpectedly complex it is. This has been described many times as as making the film inaccessible to the viewer. The film's chronology is relatively non-linear and the characters are used as not only a means of storytelling but as a device for showing us the subtle (or not so subtle) hints of bias we give things as we commit them to memory, IE. Ray Liotta's character brandishing a gun saying the words fear me is portrayed as both tragically pathetic (from Statham's POV) or interrogating and bold (from Liotta's POV). This is but one example of Ritchie's far more mature approach he has taken to film-making with Revolver, we have a storyline which is pretty archetypal (the strong but silent gritty anti-hero gets released from jail with a score to settle but gets drawn inadvertently into a world of corruption... I mean it's paint by numbers film noir here guys, all the way down to the vague poetic choice of diction and the gritty voice-overs) but then Guy has taken this framework to make a number of extremely philosophical and complex points.<br /><br />Take the scene where Jason Statham's character runs afoul of a car. This throwaway sequence could have been emitted from the film and made no difference to the story whatsoever... but Ritchie is making point about how such little chance happenings such as receiving a phone call can make the difference between life and death.<br /><br />So the final act of the movie is pretty mind boggling, I'd be taking the p*ss if I said I didn't spend the last 20 minutes or so of the film turning to my date going uh... wtf?... but that is the shoddiest reason to disregard a piece of art. It is far too easy to dislike something because you find it hard to understand. And even easier to say well nobody else seemed to understand it so it must be a real turd of a film!. In my humble opinion, Revolver is a stylish, complex and mature piece of modern art which should be greeted with the same manner we would give the work of the Saatchi Brothers. If we choose this opportunity to collectively say Ah sh*t, I wanted a film about a load of bleeding cockney gangsters in-nit loll... Guy Ritchie is a tit! then the day will come when film-makers are allowed only to make that which is expected of them by shallow, crappy people. Just because Guy made a name for himself with funny, cheeky cockney romps, doesnt mean he cant be deep without being pretentious. Funny people can be thoughtful too.\")"
   ]
  },
  {
   "cell_type": "markdown",
   "id": "XbzttYVnBo7W",
   "metadata": {
    "id": "XbzttYVnBo7W"
   },
   "source": [
    "# Q8. Modularize your calssifier (10 points)\n",
    "1. Convert your code into a python module text_classifier.py\n",
    "\n",
    "2. The user should be able to launch the application on command prompt using python test_classifier.py command. The module will automatically load the model paramters from a local file of your choice and be ready to take the input from user on command prompt. The program will preprocess user input, tokenize and predict the class.\n",
    "\n",
    "3. Your module will take the input from user and output sentiment class in an indefinite loop. The output should printout the probabilities for each input token along with the final classification decision. Program will quit if user enters X.\n"
   ]
  },
  {
   "cell_type": "code",
   "execution_count": 68,
   "id": "lKAQrnnbBnKe",
   "metadata": {
    "id": "lKAQrnnbBnKe"
   },
   "outputs": [],
   "source": [
    "import pickle\n",
    "\n",
    "# Assume logprior and loglikelihood are your trained model parameters\n",
    "with open('model.pkl', 'wb') as f:\n",
    "    pickle.dump((logprior, loglikelihood), f)\n"
   ]
  },
  {
   "cell_type": "markdown",
   "id": "82e6e4d1",
   "metadata": {
    "id": "82e6e4d1"
   },
   "source": [
    "# Q9. Theory Questions: (10 points)\n",
    "\n",
    "1. Why is Laplace Smoothing or Additive Smoothing required while executing Naive Bayes operations, especially for text classification? Show how not having additive smoothing leads to bad outcomes by using an example of training and the test set. (10 points)\n",
    "\n",
    "\n",
    "2. Why are logarithmic values computed instead of only probability values in the Naive Bayes algorithm? (5 points)"
   ]
  },
  {
   "cell_type": "markdown",
   "id": "93388327-2b98-42ec-b38e-2aaf11b25d98",
   "metadata": {},
   "source": [
    "### Q9\n",
    "1. Laplace smoothing is required for Naive Bayes operations because if a word appears in the test set that was not present in the training set, the estimated probability of that word would be 0. When estimating, this would result in a 0 probablity for the entire document, as the values are multiplied together, and with a 0 in the mix, would result in a total of 0. Adding 1 to numerator and denominator allows us to avoid this issue while calculating probablity, even if a word does not appear in training.\n",
    "\n"
   ]
  },
  {
   "cell_type": "code",
   "execution_count": 41,
   "id": "a7c7231d-760a-4a0d-81a6-0c46b86ad0fe",
   "metadata": {},
   "outputs": [
    {
     "data": {
      "text/plain": [
       "'Ticotin,'"
      ]
     },
     "execution_count": 41,
     "metadata": {},
     "output_type": "execute_result"
    }
   ],
   "source": [
    "# Flatten and get set of words in train and test\n",
    "train_words = set(word for review in X_train for word in review.split())\n",
    "test_words = set(word for review in X_test for word in review.split())\n",
    "\n",
    "# Get words in test set that are not in train set\n",
    "words_in_test_not_in_train = test_words - train_words\n",
    "\n",
    "# Print out the unique words in the test set that are not in the training set\n",
    "sample = next(iter(words_in_test_not_in_train))\n",
    "sample"
   ]
  },
  {
   "cell_type": "markdown",
   "id": "c82a6e97-702d-4cb3-bb3e-db65a61b79a0",
   "metadata": {},
   "source": [
    "'upon--and'"
   ]
  },
  {
   "cell_type": "code",
   "execution_count": 42,
   "id": "b40df50c-ae42-4b14-afc7-38651d0beeb6",
   "metadata": {},
   "outputs": [],
   "source": [
    "def find_review_with_word(word, reviews):\n",
    "    '''\n",
    "    Input:\n",
    "        word: a string that you want to find in the reviews\n",
    "        reviews: a list of reviews\n",
    "    Output:\n",
    "        review: the first review that contains the word\n",
    "    '''\n",
    "    for review in reviews:\n",
    "        if word in review.split():\n",
    "            return review\n",
    "    return None\n",
    "\n",
    "word_to_find = list(words_in_test_not_in_train)[0]  # First word\n",
    "review_with_word = find_review_with_word(word_to_find, X_test)"
   ]
  },
  {
   "cell_type": "code",
   "execution_count": 43,
   "id": "6a73c09f-35cd-4085-98c4-b97585b30c7b",
   "metadata": {},
   "outputs": [],
   "source": [
    "def train_naive_bayes_no_smoothing(freqs, train_x, train_y):\n",
    "    '''\n",
    "    This version of the function does not apply Laplace smoothing\n",
    "    '''\n",
    "    loglikelihood = {}\n",
    "    logprior = 0\n",
    "\n",
    "    vocab = set([pair[0] for pair in freqs.keys()])\n",
    "    V = len(vocab)\n",
    "\n",
    "    num_pos = num_neg = 0\n",
    "    for pair in freqs.keys():\n",
    "        if pair[1] > 0:\n",
    "            num_pos += freqs[pair]\n",
    "        else:\n",
    "            num_neg += freqs[pair]\n",
    "\n",
    "    num_doc = len(train_y)\n",
    "    D_pos = sum(train_y)\n",
    "    D_neg = num_doc - D_pos\n",
    "    logprior = np.log(D_pos) - np.log(D_neg)\n",
    "\n",
    "    for word in vocab:\n",
    "        freq_pos = find_occurrence(freqs, word, 1)\n",
    "        freq_neg = find_occurrence(freqs, word, 0)\n",
    "        \n",
    "        # This is where the change occurs. No smoothing is applied here.\n",
    "        p_w_pos = freq_pos / num_pos \n",
    "        p_w_neg = freq_neg / num_neg\n",
    "\n",
    "        # We need to handle the case where the probabilities are zero because log(0) is undefined\n",
    "        if p_w_pos > 0 and p_w_neg > 0:\n",
    "            loglikelihood[word] = np.log(p_w_pos / p_w_neg)\n",
    "        else:\n",
    "            print(\"Would have returned Zero Div error\") # To show issue, then breaks\n",
    "            break\n",
    "            # loglikelihood[word] = 0 \n",
    "\n",
    "    return logprior, loglikelihood"
   ]
  },
  {
   "cell_type": "code",
   "execution_count": 44,
   "id": "6852fc44-e700-454d-bb3e-9ccad6ee67b0",
   "metadata": {},
   "outputs": [
    {
     "name": "stdout",
     "output_type": "stream",
     "text": [
      "Would have returned Zero Div error\n",
      "1\n"
     ]
    }
   ],
   "source": [
    "logprior_no_smooth, loglikelihood_no_smooth = train_naive_bayes_no_smoothing(freqs, X_train, y_train)\n",
    "\n",
    "sentiment_no_smooth = naive_bayes_predict(review_with_word, logprior_no_smooth, loglikelihood_no_smooth)\n",
    "\n",
    "print(sentiment_no_smooth)\n"
   ]
  },
  {
   "cell_type": "markdown",
   "id": "a9f93cac-f736-4262-a94f-d799aa4d94e9",
   "metadata": {},
   "source": [
    "### 2\n",
    "\n",
    "Using logarithmic values instead of regular probabilities is done to help prevent underflow errors. When the many probabilities in our model are very small, then multiplied by zero, it can easily become too small to accurately represent, using the log turns multiplication and division into addition and subtraction effectively. There are also some time-savings when using addition and subtraction vs multiplication and division."
   ]
  }
 ],
 "metadata": {
  "colab": {
   "collapsed_sections": [],
   "name": "CS6120_NLP_Assignment_1_Notebook.ipynb",
   "provenance": [],
   "toc_visible": true
  },
  "kernelspec": {
   "display_name": "Python 3 (ipykernel)",
   "language": "python",
   "name": "python3"
  },
  "language_info": {
   "codemirror_mode": {
    "name": "ipython",
    "version": 3
   },
   "file_extension": ".py",
   "mimetype": "text/x-python",
   "name": "python",
   "nbconvert_exporter": "python",
   "pygments_lexer": "ipython3",
   "version": "3.9.16"
  }
 },
 "nbformat": 4,
 "nbformat_minor": 5
}
